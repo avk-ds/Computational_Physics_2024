{
 "cells": [
  {
   "cell_type": "markdown",
   "id": "9b347716-0d06-4c6d-8dae-c5fad860f244",
   "metadata": {},
   "source": [
    "## To import numpy and define the matrix"
   ]
  },
  {
   "cell_type": "code",
   "execution_count": 54,
   "id": "a33cb8b2-1ead-4f81-a1a0-1249016532b5",
   "metadata": {},
   "outputs": [],
   "source": [
    "import numpy as np\n",
    "#Defining the matrix\n",
    "A=np.array([[5,-2],[-2,8]])"
   ]
  },
  {
   "cell_type": "markdown",
   "id": "ca859d50-2a13-4d8d-82e1-2c9089ddc317",
   "metadata": {},
   "source": [
    "## To find the eigen values through QR decomposition"
   ]
  },
  {
   "cell_type": "code",
   "execution_count": 55,
   "id": "e144d99f-3ca4-47bb-863d-c5befc43be4c",
   "metadata": {},
   "outputs": [
    {
     "name": "stdout",
     "output_type": "stream",
     "text": [
      "The eigenvalues of the matrix obtained from QR decomposition is [4.00000036 8.99999964]\n"
     ]
    }
   ],
   "source": [
    "tolerance=0.001\n",
    "def non_diagonal(matrix):\n",
    "    non_diagonal_matrix = matrix - np.diag(np.diag(matrix))\n",
    "    return non_diagonal_matrix\n",
    "def check(matrix):\n",
    "    return(np.all(abs(matrix) <=tolerance))\n",
    "A_k=A\n",
    "while(1):\n",
    "    Q,R = np.linalg.qr(A_k)\n",
    "    A_l=np.dot(R,Q)\n",
    "    if check(non_diagonal(A_l))==True:\n",
    "        break\n",
    "    A_k=A_l\n",
    "eig_1=np.diagonal(A_k)\n",
    "eig_qr=np.sort(eig_1)\n",
    "print(\"The eigenvalues of the matrix obtained from QR decomposition is\", eig_qr)\n",
    "    "
   ]
  },
  {
   "cell_type": "markdown",
   "id": "d923cf7a-0332-4a95-8ec7-97c074e0e7c3",
   "metadata": {},
   "source": [
    "## To find the eigen values using numpy.linalg.eigh"
   ]
  },
  {
   "cell_type": "code",
   "execution_count": 56,
   "id": "89272de1-b4c3-454d-ae33-7fec27292909",
   "metadata": {},
   "outputs": [
    {
     "name": "stdout",
     "output_type": "stream",
     "text": [
      "[4. 9.]\n",
      "[[-0.89442719 -0.4472136 ]\n",
      " [-0.4472136   0.89442719]]\n"
     ]
    }
   ],
   "source": [
    "eig_val_1, eig_vec = np.linalg.eigh(A)\n",
    "eig_val=np.sort(eig_val_1)\n",
    "print(eig_val)\n",
    "print(eig_vec)"
   ]
  },
  {
   "cell_type": "markdown",
   "id": "f1056f0e-1aa8-499e-b45b-aee320e1bc1f",
   "metadata": {},
   "source": [
    "## To compare the two results"
   ]
  },
  {
   "cell_type": "code",
   "execution_count": 57,
   "id": "e55678c3-ee51-4264-99fd-6afe80d7ba7a",
   "metadata": {},
   "outputs": [
    {
     "name": "stdout",
     "output_type": "stream",
     "text": [
      "The lower eigen vale has a error of 8.932120554305811e-06 % and the  higher eigen value has an error of  3.9698313179946535e-06 %.\n"
     ]
    }
   ],
   "source": [
    "def er(a,c):\n",
    "    d=((abs(c-a))/c)*100\n",
    "    return d\n",
    "print(\"The lower eigen vale has a error of\", er(eig_qr[0],eig_val[0]),\"% and the  higher eigen value has an error of \", er(eig_qr[1],eig_val[1]),\"%.\")"
   ]
  },
  {
   "cell_type": "code",
   "execution_count": null,
   "id": "bf96d7aa-6afb-45e9-a5ac-57e14d203269",
   "metadata": {},
   "outputs": [],
   "source": []
  }
 ],
 "metadata": {
  "kernelspec": {
   "display_name": "Python 3 (ipykernel)",
   "language": "python",
   "name": "python3"
  },
  "language_info": {
   "codemirror_mode": {
    "name": "ipython",
    "version": 3
   },
   "file_extension": ".py",
   "mimetype": "text/x-python",
   "name": "python",
   "nbconvert_exporter": "python",
   "pygments_lexer": "ipython3",
   "version": "3.12.2"
  }
 },
 "nbformat": 4,
 "nbformat_minor": 5
}
