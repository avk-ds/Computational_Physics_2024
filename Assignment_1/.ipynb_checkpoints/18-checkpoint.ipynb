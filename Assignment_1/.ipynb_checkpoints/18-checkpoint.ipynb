{
 "cells": [
  {
   "cell_type": "markdown",
   "id": "50e4253a-19a0-4d99-8646-d57fa3aee38b",
   "metadata": {},
   "source": [
    "## Initialising"
   ]
  },
  {
   "cell_type": "code",
   "execution_count": 9,
   "id": "0c58a07c-94e9-49fb-b413-992573a6f365",
   "metadata": {},
   "outputs": [],
   "source": [
    "import numpy as np\n",
    "matrix_a = [[2, -1, 0], [-1, 2, -1], [0, -1, 2]]\n",
    "vector_b = [1, 0, 0]\n",
    "precision = 1\n",
    "iteration_count = 0\n",
    "matrix_am = matrix_a\n",
    "relative_error = 0"
   ]
  },
  {
   "cell_type": "markdown",
   "id": "bcf68b79-d702-4137-966a-47fae638eb2e",
   "metadata": {},
   "source": [
    "## Starting the iterations"
   ]
  },
  {
   "cell_type": "code",
   "execution_count": 10,
   "id": "dd99167b-1178-4cf9-8fb2-2c08964224e3",
   "metadata": {},
   "outputs": [],
   "source": [
    "while precision > 0.01:\n",
    "    u = np.dot(np.dot(matrix_am, vector_b), vector_b) * 1.0\n",
    "    matrix_am = np.dot(matrix_a, matrix_am)\n",
    "    v = np.dot(np.dot(matrix_am, vector_b), vector_b) * 1.0\n",
    "    relative_norm = abs(v / u)\n",
    "    precision = relative_norm - relative_error\n",
    "    relative_error = relative_norm\n",
    "    iteration_count += 1"
   ]
  },
  {
   "cell_type": "markdown",
   "id": "f66f7385-1e61-4f81-a29e-b819032ac84d",
   "metadata": {},
   "source": [
    "## Results"
   ]
  },
  {
   "cell_type": "code",
   "execution_count": 11,
   "id": "772a0b16-3bb8-4aae-b346-89d45b47b725",
   "metadata": {},
   "outputs": [
    {
     "name": "stdout",
     "output_type": "stream",
     "text": [
      "The dominant eigenvalue obtained by power method is 3.400883652430044\n",
      "The power method required  10 iterations\n",
      "The corresponding eigenvector found using this method is  [ 1.         -1.4063745   0.98891391]\n",
      "The largest eigenvalue obtained by 'np.linalg.eigvalsh()' is  3.414213562373095\n",
      "The accuracy of the Power Method for this particular problem is  0.39042402297136036 %\n"
     ]
    }
   ],
   "source": [
    "print(\"The dominant eigenvalue obtained by power method is\", relative_norm)\n",
    "print(\"The power method required \", iteration_count, \"iterations\")\n",
    "print(\"The corresponding eigenvector found using this method is \", 1 / v * np.dot(matrix_am, vector_b))\n",
    "eigenvalues = np.linalg.eigvalsh(matrix_a)\n",
    "print(\"The largest eigenvalue obtained by 'np.linalg.eigvalsh()' is \", eigenvalues[-1])\n",
    "print(\"The accuracy of the Power Method for this particular problem is \", (abs(relative_norm - eigenvalues[-1]) / eigenvalues[-1])*100, \"%\")"
   ]
  }
 ],
 "metadata": {
  "kernelspec": {
   "display_name": "Python 3 (ipykernel)",
   "language": "python",
   "name": "python3"
  },
  "language_info": {
   "codemirror_mode": {
    "name": "ipython",
    "version": 3
   },
   "file_extension": ".py",
   "mimetype": "text/x-python",
   "name": "python",
   "nbconvert_exporter": "python",
   "pygments_lexer": "ipython3",
   "version": "3.12.2"
  }
 },
 "nbformat": 4,
 "nbformat_minor": 5
}
