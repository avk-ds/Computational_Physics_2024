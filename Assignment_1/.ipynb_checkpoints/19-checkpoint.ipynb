{
 "cells": [
  {
   "cell_type": "markdown",
   "id": "164fb73a-d0be-4ba5-a76f-4c9d5b3e681c",
   "metadata": {},
   "source": [
    "## Importing modules"
   ]
  },
  {
   "cell_type": "code",
   "execution_count": 31,
   "id": "2d88fdb1-e95c-408a-925e-e43cbd26af6c",
   "metadata": {},
   "outputs": [],
   "source": [
    "import time\n",
    "import numpy as np"
   ]
  },
  {
   "cell_type": "markdown",
   "id": "7dbd123f-1769-4a96-911f-cc126bd6ac73",
   "metadata": {},
   "source": [
    "## Defining the matrices"
   ]
  },
  {
   "cell_type": "code",
   "execution_count": 32,
   "id": "60b63113-8347-4c27-ad51-9a428ae9a7b5",
   "metadata": {},
   "outputs": [],
   "source": [
    "matrix1 = [[2,1],[1,0]]\n",
    "matrix2 = [[2,1],[1,0],[0,1]]\n",
    "matrix3 = [[2,1],[-1,1],[1,1],[2,-1]]\n",
    "matrix4 = [[1,1,0],[-1,0,1],[0,1,-1],[1,1,-1]]\n",
    "matrix5 = [[0,1,1],[0,1,0],[1,1,0],[0,1,0],[1,0,1]]\n",
    "\n",
    "#Defining an array of the matrices\n",
    "matrices = [matrix1, matrix2, matrix3, matrix4, matrix5]\n",
    "decomposed_matrices = []"
   ]
  },
  {
   "cell_type": "markdown",
   "id": "4151e161-4479-42cc-a45f-852e14f4a4fd",
   "metadata": {},
   "source": [
    "## To decompose the matrices and record the time"
   ]
  },
  {
   "cell_type": "code",
   "execution_count": 33,
   "id": "cf249c14-d3f5-4da6-863b-440850f6a995",
   "metadata": {},
   "outputs": [
    {
     "name": "stdout",
     "output_type": "stream",
     "text": [
      "Time taken for decomposition of matrix  1  is =  182367  nano seconds.\n",
      "The decomposed matrices of matrix  1  are \n",
      " --> [[-0.92387953 -0.38268343]\n",
      " [-0.38268343  0.92387953]] \n",
      " --> [2.41421356 0.41421356]  and \n",
      " --> [[-0.92387953 -0.38268343]\n",
      " [ 0.38268343 -0.92387953]]\n",
      "\n",
      " \n",
      "\n",
      "Time taken for decomposition of matrix  2  is =  116091  nano seconds.\n",
      "The decomposed matrices of matrix  2  are \n",
      " --> [[-9.12870929e-01  4.80183453e-17 -4.08248290e-01]\n",
      " [-3.65148372e-01 -4.47213595e-01  8.16496581e-01]\n",
      " [-1.82574186e-01  8.94427191e-01  4.08248290e-01]] \n",
      " --> [2.44948974 1.        ]  and \n",
      " --> [[-0.89442719 -0.4472136 ]\n",
      " [-0.4472136   0.89442719]]\n",
      "\n",
      " \n",
      "\n",
      "Time taken for decomposition of matrix  3  is =  104791  nano seconds.\n",
      "The decomposed matrices of matrix  3  are \n",
      " --> [[-0.63245553 -0.5        -0.52229321 -0.27786652]\n",
      " [ 0.31622777 -0.5        -0.30196857  0.74753928]\n",
      " [-0.31622777 -0.5         0.79704714  0.12130893]\n",
      " [-0.63245553  0.5        -0.02721464  0.59098169]] \n",
      " --> [3.16227766 2.        ]  and \n",
      " --> [[-1. -0.]\n",
      " [-0. -1.]]\n",
      "\n",
      " \n",
      "\n",
      "Time taken for decomposition of matrix  4  is =  112284  nano seconds.\n",
      "The decomposed matrices of matrix  4  are \n",
      " --> [[-4.36435780e-01  7.07106781e-01  4.08248290e-01 -3.77964473e-01]\n",
      " [ 4.36435780e-01  7.07106781e-01 -4.08248290e-01  3.77964473e-01]\n",
      " [-4.36435780e-01  2.78128094e-16 -8.16496581e-01 -3.77964473e-01]\n",
      " [-6.54653671e-01  3.21893557e-16 -2.30903117e-16  7.55928946e-01]] \n",
      " --> [2.64575131 1.         1.        ]  and \n",
      " --> [[-0.57735027 -0.57735027  0.57735027]\n",
      " [ 0.          0.70710678  0.70710678]\n",
      " [ 0.81649658 -0.40824829  0.40824829]]\n",
      "\n",
      " \n",
      "\n",
      "Time taken for decomposition of matrix  5  is =  315288  nano seconds.\n",
      "The decomposed matrices of matrix  5  are \n",
      " --> [[-5.47722558e-01  7.18123969e-17  7.07106781e-01 -1.32058463e-01\n",
      "  -4.27271064e-01]\n",
      " [-3.65148372e-01  4.08248290e-01  1.66507414e-16 -5.43516408e-01\n",
      "   6.36073827e-01]\n",
      " [-5.47722558e-01 -5.09964989e-17 -7.07106781e-01 -1.32058463e-01\n",
      "  -4.27271064e-01]\n",
      " [-3.65148372e-01  4.08248290e-01  1.78236286e-16  8.07633333e-01\n",
      "   2.18468301e-01]\n",
      " [-3.65148372e-01 -8.16496581e-01  7.67437979e-17  1.32058463e-01\n",
      "   4.27271064e-01]] \n",
      " --> [2.23606798 1.41421356 1.        ]  and \n",
      " --> [[-4.08248290e-01 -8.16496581e-01 -4.08248290e-01]\n",
      " [-5.77350269e-01  5.77350269e-01 -5.77350269e-01]\n",
      " [-7.07106781e-01  2.45660405e-16  7.07106781e-01]]\n",
      "\n",
      " \n",
      "\n"
     ]
    }
   ],
   "source": [
    "for i in range(5):\n",
    "    decomposed = []\n",
    "    start_time = time.time_ns()\n",
    "    decomp = np.linalg.svd(matrices[i])\n",
    "    print(\"Time taken for decomposition of matrix \", i+1, \" is = \", time.time_ns() - start_time, \" nano seconds.\")\n",
    "    for j in range(3):\n",
    "        decomposed.append(decomp[j])\n",
    "    decomposed_matrices.append(decomp)\n",
    "    print(\"The decomposed matrices of matrix \", i+1, \" are \\n -->\", decomp[0],\"\\n -->\", decomp[1],\" and \\n -->\", decomp[2])\n",
    "    print(\"\\n \\n\")"
   ]
  },
  {
   "cell_type": "markdown",
   "id": "13001f4f-bb26-42e4-87c7-d91c195abdeb",
   "metadata": {},
   "source": [
    "## Verification"
   ]
  },
  {
   "cell_type": "code",
   "execution_count": 34,
   "id": "6e2882ca-ed36-4a1a-bf0b-7a685b1b92ca",
   "metadata": {},
   "outputs": [
    {
     "name": "stdout",
     "output_type": "stream",
     "text": [
      "Multiplication gives us  [[ 2.00000000e+00  1.00000000e+00]\n",
      " [ 1.00000000e+00 -3.81016887e-17]]\n",
      "Multiplication gives us  [[ 2.00000000e+00  1.00000000e+00]\n",
      " [ 1.00000000e+00 -6.81060746e-17]\n",
      " [-1.23617226e-16  1.00000000e+00]]\n",
      "Multiplication gives us  [[ 2.  1.]\n",
      " [-1.  1.]\n",
      " [ 1.  1.]\n",
      " [ 2. -1.]]\n",
      "Multiplication gives us  [[ 1.00000000e+00  1.00000000e+00  2.01436552e-17]\n",
      " [-1.00000000e+00  2.32001774e-16  1.00000000e+00]\n",
      " [-2.21127337e-16  1.00000000e+00 -1.00000000e+00]\n",
      " [ 1.00000000e+00  1.00000000e+00 -1.00000000e+00]]\n",
      "Multiplication gives us  [[-1.92849653e-16  1.00000000e+00  1.00000000e+00]\n",
      " [ 1.07252213e-16  1.00000000e+00 -2.29557465e-16]\n",
      " [ 1.00000000e+00  1.00000000e+00 -7.38436957e-16]\n",
      " [ 9.89586488e-17  1.00000000e+00 -2.21263901e-16]\n",
      " [ 1.00000000e+00 -6.00744882e-16  1.00000000e+00]]\n",
      "We can clearly see the decomposition is correct.\n"
     ]
    }
   ],
   "source": [
    "singular_values = []\n",
    "for idx in range(len(decomposed_matrices)):\n",
    "    s = np.zeros((len(matrices[idx]), len(matrices[idx][0])))\n",
    "\n",
    "    for d in range(len(decomposed_matrices[idx][1])):\n",
    "        s[d][d] = decomposed_matrices[idx][1][d]\n",
    "    result=np.dot(np.dot(decomposed_matrices[idx][0], s), decomposed_matrices[idx][2])\n",
    "    print(\"Multiplication gives us \", result)\n",
    "print(\"We can clearly see the decomposition is correct.\")"
   ]
  },
  {
   "cell_type": "code",
   "execution_count": null,
   "id": "d414206b-3473-49db-9d83-8a125714b5cd",
   "metadata": {},
   "outputs": [],
   "source": []
  }
 ],
 "metadata": {
  "kernelspec": {
   "display_name": "Python 3 (ipykernel)",
   "language": "python",
   "name": "python3"
  },
  "language_info": {
   "codemirror_mode": {
    "name": "ipython",
    "version": 3
   },
   "file_extension": ".py",
   "mimetype": "text/x-python",
   "name": "python",
   "nbconvert_exporter": "python",
   "pygments_lexer": "ipython3",
   "version": "3.12.2"
  }
 },
 "nbformat": 4,
 "nbformat_minor": 5
}
