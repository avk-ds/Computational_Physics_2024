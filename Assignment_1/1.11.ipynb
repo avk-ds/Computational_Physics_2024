{
 "cells": [
  {
   "cell_type": "markdown",
   "id": "19574cae-06b6-4805-9c0d-98e1eec3bfca",
   "metadata": {},
   "source": [
    "## System of equations-1:"
   ]
  },
  {
   "cell_type": "code",
   "execution_count": 13,
   "id": "3ebbf9e7-b9d5-4f66-8ac1-04e0364e6b0b",
   "metadata": {},
   "outputs": [
    {
     "name": "stdout",
     "output_type": "stream",
     "text": [
      "The solution of the system of equations-1 is \n",
      " [ 0.03508772 -0.23684211  0.65789474]\n"
     ]
    }
   ],
   "source": [
    "import numpy as np\n",
    "#Defining the equation in matrix form:\n",
    "#Defining the co-effient matrix:\n",
    "A_1=np.array([[3, -1, 1], [3, 6, 2], [3, 3, 7]])\n",
    "#Defining the vector containing the constant terms\n",
    "b_1=np.array([1, 0, 4])\n",
    "#Solution:\n",
    "x_1=np.linalg.solve(A_1,b_1)\n",
    "print(\"The solution of the system of equations-1 is \\n\",x_1)"
   ]
  },
  {
   "cell_type": "markdown",
   "id": "a6700cab-3ce6-40bf-8002-b21fcb7ed421",
   "metadata": {},
   "source": [
    "## System of equations-2:"
   ]
  },
  {
   "cell_type": "code",
   "execution_count": 14,
   "id": "196f70e1-c2ac-4712-be35-e3bd46960bf1",
   "metadata": {},
   "outputs": [
    {
     "name": "stdout",
     "output_type": "stream",
     "text": [
      "The solution of the system of equations-2 is \n",
      " [0.99578947 0.95789474 0.79157895]\n"
     ]
    }
   ],
   "source": [
    "#Defining the equation in matrix form:\n",
    "#Defining the co-effient matrix:\n",
    "A_2=np.array([[10, -1, 0], [-1, 10, -2], [0, -2, 10]])\n",
    "#Defining the vector containing the constant terms\n",
    "b_2=np.array([9, 7, 6])\n",
    "#Solution:\n",
    "x_2=np.linalg.solve(A_2,b_2)\n",
    "print(\"The solution of the system of equations-2 is \\n\",x_2)"
   ]
  },
  {
   "cell_type": "markdown",
   "id": "4c6e5b1b-caa0-4920-89b2-abcfe07e76fe",
   "metadata": {},
   "source": [
    "## System of equations-3:"
   ]
  },
  {
   "cell_type": "code",
   "execution_count": 15,
   "id": "7879cc84-273c-4755-ae3f-0c6c03bd81f7",
   "metadata": {},
   "outputs": [
    {
     "name": "stdout",
     "output_type": "stream",
     "text": [
      "The solution of the system of equations-3 is \n",
      " [-0.79764706  2.79529412 -0.25882353 -2.25176471]\n"
     ]
    }
   ],
   "source": [
    "#Defining the equation in matrix form:\n",
    "#Defining the co-effient matrix:\n",
    "A_3=np.array([[10, 5, 0, 0], [5, 10, -4, 0], [0, -4, 8, -1], [0, 0, -1, 5]])\n",
    "#Defining the vector containing the constant terms\n",
    "b_3=np.array([6, 25, -11, -11])\n",
    "#Solution:\n",
    "x_3=np.linalg.solve(A_3,b_3)\n",
    "print(\"The solution of the system of equations-3 is \\n\",x_3)"
   ]
  },
  {
   "cell_type": "markdown",
   "id": "03074336-7a07-4c99-b47c-d445506b060f",
   "metadata": {},
   "source": [
    "## System of equations-4:"
   ]
  },
  {
   "cell_type": "code",
   "execution_count": 16,
   "id": "5e353e09-cee4-4c43-91df-c77dded678f6",
   "metadata": {},
   "outputs": [
    {
     "name": "stdout",
     "output_type": "stream",
     "text": [
      "The solution of the system of equations-4 is \n",
      " [ 0.78663239 -1.00257069  1.86632391  1.9125964   1.98971722]\n"
     ]
    }
   ],
   "source": [
    "#Defining the equation in matrix form:\n",
    "#Defining the co-effient matrix:\n",
    "A_4=np.array([[4, 1, 1, 0, 1], [-1, -3, 1, 1, 0], [2, 1, 5, -1, -1], [-1, -1, -1, \n",
    "  4, 0], [0, 2, -1, 1, 4]])\n",
    "#Defining the vector containing the constant terms\n",
    "b_4=np.array([6, 6, 6, 6, 6])\n",
    "#Solution:\n",
    "x_4=np.linalg.solve(A_4,b_4)\n",
    "print(\"The solution of the system of equations-4 is \\n\",x_4)"
   ]
  }
 ],
 "metadata": {
  "kernelspec": {
   "display_name": "Python 3 (ipykernel)",
   "language": "python",
   "name": "python3"
  },
  "language_info": {
   "codemirror_mode": {
    "name": "ipython",
    "version": 3
   },
   "file_extension": ".py",
   "mimetype": "text/x-python",
   "name": "python",
   "nbconvert_exporter": "python",
   "pygments_lexer": "ipython3",
   "version": "3.12.2"
  }
 },
 "nbformat": 4,
 "nbformat_minor": 5
}
