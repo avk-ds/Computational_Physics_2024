{
 "cells": [
  {
   "cell_type": "markdown",
   "id": "6840569f-819b-4e3c-820d-374c8b302df5",
   "metadata": {},
   "source": [
    "## Importing functions"
   ]
  },
  {
   "cell_type": "code",
   "execution_count": 13,
   "id": "3571d3fc-0710-45c0-b8d9-fcaa3ded8ab5",
   "metadata": {},
   "outputs": [],
   "source": [
    "import numpy as np"
   ]
  },
  {
   "cell_type": "markdown",
   "id": "0c49d6d4-c050-4927-a841-02fb84620f7f",
   "metadata": {},
   "source": [
    "## Initialisation"
   ]
  },
  {
   "cell_type": "code",
   "execution_count": 14,
   "id": "534ae5f8-5671-42ea-98a7-72c5f2e7e82e",
   "metadata": {},
   "outputs": [],
   "source": [
    "x_original = [7.859713071,0.422926408,-0.073592239,-0.540643016,0.010626163]\n",
    "coefficients = [[0.2,0.1,1,1,0],[0.1,4,-1,1,-1],[1,-1,60,0,-2],[1,1,0,8,4],[0,-1,-2,4,700]]\n",
    "constants = [1,2,3,4,5]\n",
    "\n",
    "x_guess = np.zeros(len(coefficients)) # initial guess\n",
    "tolerance = 0.01\n",
    "omega = 1.25"
   ]
  },
  {
   "cell_type": "markdown",
   "id": "296c4145-62d0-4ad3-9052-a86928f349a6",
   "metadata": {},
   "source": [
    "## The Jacobi Method"
   ]
  },
  {
   "cell_type": "code",
   "execution_count": 15,
   "id": "78196ded-a9d7-45f8-9eed-3e7cf2e9a4f5",
   "metadata": {},
   "outputs": [
    {
     "name": "stdout",
     "output_type": "stream",
     "text": [
      "The solution obtained from Jacobi method is  [ 7.85068804  0.42279808 -0.07344426 -0.5394944   0.01061984]\n",
      "Jacobi method required 21  iterations\n"
     ]
    }
   ],
   "source": [
    "def jacobi_method(coefficients, constants, tolerance, x_guess, x_original):\n",
    "    difference = 1\n",
    "    iterations = 0\n",
    "    x = np.zeros(len(coefficients))\n",
    "    while (difference > tolerance):\n",
    "        for i in range(len(coefficients)):\n",
    "            q1 = 0\n",
    "            for j in range(len(coefficients)):\n",
    "                if (i != j):\n",
    "                    q1 = q1 - coefficients[i][j] * x_guess[j]\n",
    "            x[i] = (1.0 / coefficients[i][i]) * (q1 + constants[i])\n",
    "        x_guess = x\n",
    "        difference = np.linalg.norm(x_original - x)\n",
    "        iterations += 1\n",
    "    print(\"The solution obtained from Jacobi method is \", x)\n",
    "    print(\"Jacobi method required\", iterations,\" iterations\")\n",
    "\n",
    "jacobi_method(coefficients, constants, tolerance, x_guess, x_original)"
   ]
  },
  {
   "cell_type": "markdown",
   "id": "3554994a-1ff6-4861-b5ad-0449490d160b",
   "metadata": {},
   "source": [
    "## Gauss Seidel Method"
   ]
  },
  {
   "cell_type": "code",
   "execution_count": 16,
   "id": "a4cad57a-7b82-4b6a-8c91-105f806551d9",
   "metadata": {},
   "outputs": [
    {
     "name": "stdout",
     "output_type": "stream",
     "text": [
      "The solution obtained from Gauss-Seidel method is  [ 7.85091478  0.42280131 -0.07344797 -0.53952326  0.01062   ]\n",
      "Gauss Seidel method required  18 iterations\n"
     ]
    }
   ],
   "source": [
    "def gauss_seidel_method(coefficients, constants, tolerance, x_guess, x_original):\n",
    "    difference = 1\n",
    "    iterations = 0\n",
    "    x = np.zeros(len(coefficients))\n",
    "    while (difference > tolerance):\n",
    "        for i in range(len(coefficients)):\n",
    "            q1 = 0\n",
    "            for j in range(len(coefficients)):\n",
    "                if (j < i):\n",
    "                    q1 = q1 - coefficients[i][j] * x[j]\n",
    "                elif (j > i):\n",
    "                    q1 = q1 - coefficients[i][j] * x_guess[j]\n",
    "            x[i] = (1.0 / coefficients[i][i]) * (q1 + constants[i])\n",
    "        x_guess = x\n",
    "        difference = np.linalg.norm(x_original - x)\n",
    "        iterations += 1\n",
    "    print(\"The solution obtained from Gauss-Seidel method is \", x)\n",
    "    print(\"Gauss Seidel method required \", iterations, \"iterations\")\n",
    "\n",
    "gauss_seidel_method(coefficients, constants, tolerance, x_guess, x_original)"
   ]
  },
  {
   "cell_type": "markdown",
   "id": "d81c1b02-edaf-4c8a-9b2f-410317179c87",
   "metadata": {},
   "source": [
    "## Relaxation method"
   ]
  },
  {
   "cell_type": "code",
   "execution_count": 17,
   "id": "bad762ce-7b7e-4504-ae91-cdd7532b7887",
   "metadata": {},
   "outputs": [
    {
     "name": "stdout",
     "output_type": "stream",
     "text": [
      "The solution obtained from Relaxation method is  [ 7.85152701  0.42277371 -0.07348303 -0.53978369  0.01062286]\n",
      "Relaxation method required  7 iterations\n"
     ]
    }
   ],
   "source": [
    "def relaxation_method(coefficients, constants, tolerance, x_guess, x_original, omega):\n",
    "    difference = 1\n",
    "    iterations = 0\n",
    "    x = np.zeros(len(coefficients))\n",
    "    while (difference > tolerance):\n",
    "        for i in range(len(coefficients)):\n",
    "            q1 = 0\n",
    "            for j in range(len(coefficients)):\n",
    "                if (j < i):\n",
    "                    q1 = q1 - coefficients[i][j] * x[j]\n",
    "                else:\n",
    "                    q1 = q1 - coefficients[i][j] * x_guess[j]\n",
    "            x[i] = x_guess[i] + (1.0 * omega / coefficients[i][i]) * (q1 + constants[i])\n",
    "        x_guess = x\n",
    "        difference = np.linalg.norm(x_original - x)\n",
    "        iterations += 1\n",
    "    print(\"The solution obtained from Relaxation method is \", x)\n",
    "    print(\"Relaxation method required \", iterations, \"iterations\")\n",
    "\n",
    "relaxation_method(coefficients, constants, tolerance, x_guess, x_original, omega)"
   ]
  },
  {
   "cell_type": "markdown",
   "id": "ce41a02a-683b-4fa3-9ecc-673275d0456c",
   "metadata": {},
   "source": [
    "## Conjugate Gradient Method"
   ]
  },
  {
   "cell_type": "code",
   "execution_count": 18,
   "id": "5fc339fc-08f7-4884-a7ac-949b0810f233",
   "metadata": {},
   "outputs": [
    {
     "name": "stdout",
     "output_type": "stream",
     "text": [
      "The solution obtatined from Conjugate Gradient Method is  [ 7.85971308  0.42292641 -0.07359224 -0.54064302  0.01062616]\n",
      "Conjugate Gradient Method required  5 iterations\n"
     ]
    }
   ],
   "source": [
    "def conjugate_gradient_method(coefficients, constants, tolerance, x_guess, x_original, omega):\n",
    "    r = constants - np.dot(coefficients, x_guess)\n",
    "    p = r\n",
    "    iterations = 0\n",
    "    difference = 1\n",
    "    while (difference > tolerance):\n",
    "        alpha = np.dot(r, r) / np.dot(np.dot(p, coefficients), p)\n",
    "        x = x_guess + np.dot(alpha, p)\n",
    "        rn = r - np.dot(np.dot(alpha, coefficients), p)\n",
    "        difference = np.linalg.norm(x - x_original)\n",
    "        beta = np.dot(rn, rn) / np.dot(r, r)\n",
    "        p = rn + np.dot(beta, p)\n",
    "        r = rn\n",
    "        iterations += 1\n",
    "        x_guess = x\n",
    "    print(\"The solution obtatined from Conjugate Gradient Method is \", x)\n",
    "    print(\"Conjugate Gradient Method required \", iterations, \"iterations\")\n",
    "\n",
    "conjugate_gradient_method(coefficients, constants, 0.01, x_guess, x_original, omega)"
   ]
  }
 ],
 "metadata": {
  "kernelspec": {
   "display_name": "Python 3 (ipykernel)",
   "language": "python",
   "name": "python3"
  },
  "language_info": {
   "codemirror_mode": {
    "name": "ipython",
    "version": 3
   },
   "file_extension": ".py",
   "mimetype": "text/x-python",
   "name": "python",
   "nbconvert_exporter": "python",
   "pygments_lexer": "ipython3",
   "version": "3.12.2"
  }
 },
 "nbformat": 4,
 "nbformat_minor": 5
}
