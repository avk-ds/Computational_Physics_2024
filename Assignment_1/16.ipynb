{
 "cells": [
  {
   "cell_type": "code",
   "execution_count": 54,
   "id": "3571d3fc-0710-45c0-b8d9-fcaa3ded8ab5",
   "metadata": {},
   "outputs": [],
   "source": [
    "#We will be using l-infinity norm for calculation of tolerance\n",
    "import numpy as np"
   ]
  },
  {
   "cell_type": "markdown",
   "id": "c9d5d45b-72cb-4817-8a58-aa91c4e91e66",
   "metadata": {},
   "source": [
    "## Defining various useful functions:"
   ]
  },
  {
   "cell_type": "code",
   "execution_count": 55,
   "id": "89f36667-3689-4393-9a3e-cd3a05ed0df9",
   "metadata": {},
   "outputs": [],
   "source": [
    "#Defining the operations that will give result of a single iteration\n",
    "#x_n is the result of previous iteration\n",
    "#M_0 and N_0 depends on the algorithm we are using\n",
    "def engine(x_n,M_0,N_0):\n",
    "    y_1=np.dot(N_0,x_n)+b\n",
    "    y_2=np.round(np.linalg.solve(M_0,y_1),decimals=4)\n",
    "    return y_2\n",
    "#Defining the l-infinity norm:\n",
    "def l_inf(x_n):\n",
    "    z=max(np.absolute(x_n))\n",
    "    return z"
   ]
  },
  {
   "cell_type": "markdown",
   "id": "f4f4812b-6fdb-42cb-90b9-e5f6ee0db9a4",
   "metadata": {},
   "source": [
    "## Defining the co-efficient matrix and the matrix of constants:"
   ]
  },
  {
   "cell_type": "code",
   "execution_count": 56,
   "id": "9f44b3a0-2b6e-4fbf-9ebc-60e615ce99da",
   "metadata": {},
   "outputs": [],
   "source": [
    "#Defining the matrices\n",
    "A=np.array([[0.2,0.1,1,1,0],[0.1,4,-1,1,-1],[1,-1,60,0,-2],[1,1,0,8,4],[0,-1,-2,4,700]])\n",
    "b=np.array([1,2,3,4,5])\n",
    "#Defining the solution:\n",
    "sol=np.array([7.859713071, 0.422926408, -0.073592239, -0.540643016, 0.010626163])"
   ]
  },
  {
   "cell_type": "code",
   "execution_count": 57,
   "id": "0ba2fb4c-8e66-4dc0-b095-bf37f5ff6eac",
   "metadata": {},
   "outputs": [],
   "source": [
    "#Defining error\n",
    "def er(l_2):\n",
    "    k=abs(round((((l_inf(l_2))-(l_inf(sol)))/(l_inf(sol)))*100,4))\n",
    "    return k"
   ]
  },
  {
   "cell_type": "markdown",
   "id": "4a7aa98a-a359-48da-ac19-9cf4c102e832",
   "metadata": {},
   "source": [
    "## Defining D, E and F matrices"
   ]
  },
  {
   "cell_type": "code",
   "execution_count": 58,
   "id": "58e111da-7884-4557-988c-eee44af2440e",
   "metadata": {},
   "outputs": [],
   "source": [
    "D=np.array([[0.2,0,0,0,0],[0,4,0,0,0],[0,0,60,0,0],[0,0,0,8,0],[0,0,0,0,700]])\n",
    "E=np.array([[0,0,0,0,0],[-0.1,0,0,0,0],[-1,1,0,0,0],[-1,-1,0,0,0],[0,1,2,-4,0]])\n",
    "F=np.array([[0,-0.1,-1,-1,0],[0,0,1,-1,1],[0,0,0,0,2],[0,0,0,0,-4],[0,0,0,0,0]])"
   ]
  },
  {
   "cell_type": "markdown",
   "id": "a30a15f0-ccc5-455f-a49d-ba3116e9ec95",
   "metadata": {},
   "source": [
    "# The Jacobi Method:"
   ]
  },
  {
   "cell_type": "code",
   "execution_count": 59,
   "id": "41fb9143-2d11-4c00-a3fa-de66b0f279aa",
   "metadata": {},
   "outputs": [],
   "source": [
    "#Defining M_1 and N_1 matrices according to Jacobi method\n",
    "M_1=D\n",
    "N_1=np.add(E,F)"
   ]
  },
  {
   "cell_type": "code",
   "execution_count": 60,
   "id": "367997a7-428e-42de-bf89-78320c1ae649",
   "metadata": {},
   "outputs": [
    {
     "name": "stdout",
     "output_type": "stream",
     "text": [
      "The required number of iterations for Jacobi method is 62\n"
     ]
    }
   ],
   "source": [
    "#Begining the loop:\n",
    "#Initialising the the variable iteration\n",
    "itr=1\n",
    "#Choosing the guess vector to be null vector:\n",
    "x=np.array([0,0,0,0,0])\n",
    "while(1):\n",
    "    z_1=engine(x,M_1,N_1)\n",
    "    diff=er(z_1)\n",
    "    if diff<=0.01:\n",
    "        break\n",
    "    itr=itr+1\n",
    "    x=z_1\n",
    "print(\"The required number of iterations for Jacobi method is\", itr)"
   ]
  },
  {
   "cell_type": "markdown",
   "id": "aa2371f6-9fbd-4629-8bee-679a78f787eb",
   "metadata": {},
   "source": [
    "# The Gauss-Seidel method"
   ]
  },
  {
   "cell_type": "code",
   "execution_count": 61,
   "id": "891a55e9-b717-47bd-a337-87e6bfce4c4d",
   "metadata": {},
   "outputs": [],
   "source": [
    "#Defining M_2 and N_2 matrices according to Gauss-Seidel Method\n",
    "M_2=np.subtract(D,E)\n",
    "N_2=F"
   ]
  },
  {
   "cell_type": "code",
   "execution_count": 62,
   "id": "c3ff4e4d-2db3-4878-931b-3bbbfdb0e696",
   "metadata": {},
   "outputs": [
    {
     "name": "stdout",
     "output_type": "stream",
     "text": [
      "The required number of iterations for Gauss-Seidel method is 25\n"
     ]
    }
   ],
   "source": [
    "#Begining the loop:\n",
    "#Initialising the the variable iteration\n",
    "itr=1\n",
    "#Choosing the guess vector to be null vector:\n",
    "x=np.array([0,0,0,0,0])\n",
    "while(1):\n",
    "    z_1=engine(x,M_2,N_2)\n",
    "    diff=er(z_1)\n",
    "    if diff<=0.01:\n",
    "        break\n",
    "    itr=itr+1\n",
    "    x=z_1\n",
    "print(\"The required number of iterations for Gauss-Seidel method is\", itr)"
   ]
  },
  {
   "cell_type": "markdown",
   "id": "97440e1c-a508-4eeb-b97e-cc79151760f7",
   "metadata": {},
   "source": [
    "# The Relaxation method"
   ]
  },
  {
   "cell_type": "code",
   "execution_count": 63,
   "id": "36a65284-6583-4be1-a0b9-d7543e0f66ed",
   "metadata": {},
   "outputs": [],
   "source": [
    "#Defining M_3 and N_3 matrices according to Relaxation Method\n",
    "w=1.25\n",
    "D_1=D/w\n",
    "D_2=((1-w)/w)*D\n",
    "M_3=D_1-E\n",
    "N_3=D_2+F"
   ]
  },
  {
   "cell_type": "code",
   "execution_count": 64,
   "id": "116f8410-c378-4715-864a-63e3d302e280",
   "metadata": {},
   "outputs": [
    {
     "name": "stdout",
     "output_type": "stream",
     "text": [
      "The required number of iterations for Relaxation method is 11\n"
     ]
    }
   ],
   "source": [
    "#Begining the loop:\n",
    "#Initialising the the variable iteration\n",
    "itr=1\n",
    "#Choosing the guess vector to be null vector:\n",
    "x=np.array([0,0,0,0,0])\n",
    "while(1):\n",
    "    z_1=engine(x,M_3,N_3)\n",
    "    diff=er(z_1)\n",
    "    if diff<=0.01:\n",
    "        break\n",
    "    itr=itr+1\n",
    "    x=z_1\n",
    "print(\"The required number of iterations for Relaxation method is\", itr)"
   ]
  },
  {
   "cell_type": "markdown",
   "id": "71d3f9d5-de10-4505-b4c0-db84753192fa",
   "metadata": {},
   "source": [
    "# The Conjugate Gradient Method:"
   ]
  },
  {
   "cell_type": "code",
   "execution_count": null,
   "id": "aeba09cc-a4ee-4f6b-9644-2475b65d6b40",
   "metadata": {},
   "outputs": [],
   "source": [
    "#Defining the initial guess:\n",
    "x=np.array([0,0,0,0,0])\n",
    "#Defining the residual:\n",
    "r=np.subtract(b,np.dot(A.x))"
   ]
  }
 ],
 "metadata": {
  "kernelspec": {
   "display_name": "Python 3 (ipykernel)",
   "language": "python",
   "name": "python3"
  },
  "language_info": {
   "codemirror_mode": {
    "name": "ipython",
    "version": 3
   },
   "file_extension": ".py",
   "mimetype": "text/x-python",
   "name": "python",
   "nbconvert_exporter": "python",
   "pygments_lexer": "ipython3",
   "version": "3.12.2"
  }
 },
 "nbformat": 4,
 "nbformat_minor": 5
}
