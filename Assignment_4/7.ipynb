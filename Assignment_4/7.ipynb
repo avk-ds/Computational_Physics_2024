{
 "cells": [
  {
   "cell_type": "code",
   "execution_count": 3,
   "metadata": {},
   "outputs": [
    {
     "name": "stdout",
     "output_type": "stream",
     "text": [
      "The first run is:  Not sufficiently random\n",
      "The second run is:  Not sufficiently random\n"
     ]
    }
   ],
   "source": [
    "import scipy\n",
    "\n",
    "observed_data1 = [4, 10, 10, 13, 20, 18, 18, 11, 13, 14, 13]  # GIVEN\n",
    "observed_data2 = [3, 7, 11, 15, 19, 24, 21, 17, 13, 9, 5]     # GIVEN\n",
    "expected_data = [4, 8, 12, 16, 20, 24, 20, 16, 12, 8, 4]      # EXPECTED\n",
    "\n",
    "chi_squared1, chi_squared2 = 0, 0\n",
    "for i in range(len(expected_data)):\n",
    "    chi_squared1 += (observed_data1[i] - expected_data[i]) ** 2 / (1.0 * expected_data[i])\n",
    "    chi_squared2 += (observed_data2[i] - expected_data[i]) ** 2 / (1.0 * expected_data[i])\n",
    "\n",
    "def test_chi_squared(chi_squared):\n",
    "    p_value = 1 - scipy.stats.chi2.cdf(chi_squared, 10.0)\n",
    "    if p_value < 0.01 or p_value > 0.99:\n",
    "        status = 'Not sufficiently random'\n",
    "    elif 0.01 < p_value < 0.05 or 0.95 < p_value < 0.99:\n",
    "        status = 'Suspect'\n",
    "    elif 0.05 < p_value < 0.1 or 0.9 < p_value < 0.95:\n",
    "        status = 'Almost suspect'\n",
    "    else:\n",
    "        status = 'Sufficiently random'\n",
    "    return status\n",
    "\n",
    "print('The first run is: ', test_chi_squared(chi_squared1))\n",
    "print('The second run is: ', test_chi_squared(chi_squared2))\n"
   ]
  },
  {
   "cell_type": "code",
   "execution_count": null,
   "metadata": {},
   "outputs": [],
   "source": []
  }
 ],
 "metadata": {
  "kernelspec": {
   "display_name": "Python 3",
   "language": "python",
   "name": "python3"
  },
  "language_info": {
   "codemirror_mode": {
    "name": "ipython",
    "version": 3
   },
   "file_extension": ".py",
   "mimetype": "text/x-python",
   "name": "python",
   "nbconvert_exporter": "python",
   "pygments_lexer": "ipython3",
   "version": "3.10.13"
  }
 },
 "nbformat": 4,
 "nbformat_minor": 2
}
