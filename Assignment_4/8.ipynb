{
 "cells": [
  {
   "cell_type": "code",
   "execution_count": 2,
   "metadata": {},
   "outputs": [
    {
     "name": "stdout",
     "output_type": "stream",
     "text": [
      "Volume of the 2-dimensional sphere is: 3.1405\n",
      "Volume of the 10-dimensional sphere is: 2.546688\n"
     ]
    }
   ],
   "source": [
    "import numpy as np\n",
    "sample_size = 1000000\n",
    "sphere_volumes = []\n",
    "\n",
    "for dimensions in [2, 10]:\n",
    "    inside_x_coords, inside_y_coords = [], []\n",
    "    outside_x_coords, outside_y_coords = [], []\n",
    "    hits = 0\n",
    "    \n",
    "    for _ in range(sample_size):\n",
    "        random_point = 2 * np.random.rand(dimensions) - 1\n",
    "        squared_sum = 0\n",
    "        \n",
    "        for dim_index in range(dimensions):\n",
    "            squared_sum += random_point[dim_index]**2\n",
    "            \n",
    "        if squared_sum <= 1:\n",
    "            hits += 1\n",
    "            inside_x_coords.append(random_point[0])\n",
    "            inside_y_coords.append(random_point[1])\n",
    "        else:\n",
    "            outside_x_coords.append(random_point[0])\n",
    "            outside_y_coords.append(random_point[1])\n",
    "    \n",
    "    sphere_volumes.append(2**dimensions * hits / sample_size)\n",
    "\n",
    "for index in range(2):\n",
    "    print(f'Volume of the { [2, 10][index] }-dimensional sphere is: { sphere_volumes[index] }')\n"
   ]
  },
  {
   "cell_type": "code",
   "execution_count": null,
   "metadata": {},
   "outputs": [],
   "source": []
  }
 ],
 "metadata": {
  "kernelspec": {
   "display_name": "Python 3",
   "language": "python",
   "name": "python3"
  },
  "language_info": {
   "codemirror_mode": {
    "name": "ipython",
    "version": 3
   },
   "file_extension": ".py",
   "mimetype": "text/x-python",
   "name": "python",
   "nbconvert_exporter": "python",
   "pygments_lexer": "ipython3",
   "version": "3.10.13"
  }
 },
 "nbformat": 4,
 "nbformat_minor": 2
}
